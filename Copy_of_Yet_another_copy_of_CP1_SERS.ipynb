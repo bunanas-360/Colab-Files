{
  "nbformat": 4,
  "nbformat_minor": 0,
  "metadata": {
    "colab": {
      "provenance": [],
      "include_colab_link": true
    },
    "kernelspec": {
      "name": "python3",
      "display_name": "Python 3"
    },
    "language_info": {
      "name": "python"
    }
  },
  "cells": [
    {
      "cell_type": "markdown",
      "metadata": {
        "id": "view-in-github",
        "colab_type": "text"
      },
      "source": [
        "<a href=\"https://colab.research.google.com/github/bunanas-360/Colab-Files/blob/main/Copy_of_Yet_another_copy_of_CP1_SERS.ipynb\" target=\"_parent\"><img src=\"https://colab.research.google.com/assets/colab-badge.svg\" alt=\"Open In Colab\"/></a>"
      ]
    },
    {
      "cell_type": "code",
      "source": [
        "import pandas as pd\n",
        "import matplotlib.pyplot as plt"
      ],
      "metadata": {
        "id": "op1RQ6fFp8AK"
      },
      "execution_count": 1,
      "outputs": []
    },
    {
      "cell_type": "code",
      "source": [
        "df = pd.read_csv('household_power_consumption.txt', sep=';')"
      ],
      "metadata": {
        "id": "U9H5HxoOqCQs"
      },
      "execution_count": null,
      "outputs": []
    },
    {
      "cell_type": "markdown",
      "source": [
        "# Exercício 1\n",
        "\n",
        "**Carregue o dataset e exiba as 10 primeiras linhas.**\n",
        "\n",
        "==="
      ],
      "metadata": {
        "id": "KF0h_TzGmoja"
      }
    },
    {
      "cell_type": "code",
      "source": [
        "print(df.head(10))"
      ],
      "metadata": {
        "id": "DPKELlwaHLhj"
      },
      "execution_count": null,
      "outputs": []
    },
    {
      "cell_type": "markdown",
      "source": [
        "# Exercício 2\n",
        "\n",
        "**Explique a diferença entre as variáveis Global_active_power e Global_reactive_power.**\n",
        "\n",
        "===\n",
        "\n",
        "O Global_active_power é a energia utilizada para manter um dispositivo, como motores ou geradores de energia, enquanto o Global_reactive_power é a energia utilizada para a operação de cargas indutivas e capacitivas."
      ],
      "metadata": {
        "id": "V2_9_tY1m28X"
      }
    },
    {
      "cell_type": "markdown",
      "source": [
        "# Exercício 3\n",
        "\n",
        "**Verifique se existem variáveis ausentes no dataset. Quantifique-os.**\n",
        "\n",
        "==="
      ],
      "metadata": {
        "id": "8c44P30_n8Xa"
      }
    },
    {
      "cell_type": "code",
      "source": [
        "perc = (25979 / df.shape[0]) * 100\n",
        "print(f'O percentual de variáveis ausentes é {perc: .2f}%')"
      ],
      "metadata": {
        "id": "uvr7WKqJp12J"
      },
      "execution_count": null,
      "outputs": []
    },
    {
      "cell_type": "markdown",
      "source": [
        "# Exercício 4\n",
        "\n",
        "**Converta a coluna Date para o tipo datetime e crie uma nova coluna com o dia da semana correspondente.**\n",
        "\n",
        "==="
      ],
      "metadata": {
        "id": "4WDQWtVPpX86"
      }
    },
    {
      "cell_type": "code",
      "source": [
        "df_temp = df\n",
        "df = df.apply(pd.to_numeric, errors='coerce')\n",
        "df['Date'] = df_temp['Date']\n",
        "df['Time'] = df_temp['Time']"
      ],
      "metadata": {
        "id": "1kaxqfuO8o3N"
      },
      "execution_count": null,
      "outputs": []
    },
    {
      "cell_type": "code",
      "source": [
        "df['Date'] = pd.to_datetime(df['Date'])"
      ],
      "metadata": {
        "id": "0TXYbbWJIEiR"
      },
      "execution_count": null,
      "outputs": []
    },
    {
      "cell_type": "code",
      "source": [
        "df['Weekday'] = df['Date'].dt.day_name()"
      ],
      "metadata": {
        "id": "eIB2jxGwInfR"
      },
      "execution_count": null,
      "outputs": []
    },
    {
      "cell_type": "code",
      "source": [
        "df['Weekday_numbered'] = df['Date'].dt.weekday"
      ],
      "metadata": {
        "id": "rgFCCYTF7ICt"
      },
      "execution_count": null,
      "outputs": []
    },
    {
      "cell_type": "code",
      "source": [
        "df.info()"
      ],
      "metadata": {
        "id": "7xQZWMBJHr2s"
      },
      "execution_count": null,
      "outputs": []
    },
    {
      "cell_type": "code",
      "source": [
        "print(df)"
      ],
      "metadata": {
        "id": "pKm1oPf3It45"
      },
      "execution_count": null,
      "outputs": []
    },
    {
      "cell_type": "markdown",
      "source": [
        "# Exercício 5\n",
        "\n",
        "**Filtre os registros apenas do ano de 2007 e calcule a média de consumo diário de Global_active_power.**\n",
        "\n",
        "==="
      ],
      "metadata": {
        "id": "7-VQ94ZTKIAF"
      }
    },
    {
      "cell_type": "code",
      "source": [
        "start_date = '2007-01-01'\n",
        "end_date = '2007-12-01'\n",
        "df_2007 = df[(df['Date'] >= start_date) & (df['Date'] <= end_date)]"
      ],
      "metadata": {
        "id": "f8Rz7VIeNp88"
      },
      "execution_count": null,
      "outputs": []
    },
    {
      "cell_type": "code",
      "source": [
        "print(df_2007)"
      ],
      "metadata": {
        "id": "426AZnWjvMXv"
      },
      "execution_count": null,
      "outputs": []
    },
    {
      "cell_type": "code",
      "source": [
        "media_2007 = df_2007['Global_active_power'].mean()"
      ],
      "metadata": {
        "id": "BHdFRvJrwV-H"
      },
      "execution_count": null,
      "outputs": []
    },
    {
      "cell_type": "code",
      "source": [
        "media_2007"
      ],
      "metadata": {
        "id": "j8vRRjJXwsP5"
      },
      "execution_count": null,
      "outputs": []
    },
    {
      "cell_type": "markdown",
      "source": [
        "# Exercício 6\n",
        "\n",
        "**Gere um gráfico de linha mostrando a variação de Global_active_power em um único dia à sua escolha.**\n",
        "\n",
        "==="
      ],
      "metadata": {
        "id": "nlg66tkRL8CN"
      }
    },
    {
      "cell_type": "code",
      "source": [
        "start_date = '2007-01-01'\n",
        "end_date = '2007-01-01'\n",
        "df_2007_01_01 = df[(df['Date'] >= start_date) & (df['Date'] <= end_date)]"
      ],
      "metadata": {
        "id": "QTCG_67fzuZj"
      },
      "execution_count": null,
      "outputs": []
    },
    {
      "cell_type": "code",
      "source": [
        "df_2007_01_01.plot(x='Time', y='Global_active_power', kind='line', marker='o')"
      ],
      "metadata": {
        "id": "CvUedGj00slb"
      },
      "execution_count": null,
      "outputs": []
    },
    {
      "cell_type": "markdown",
      "source": [
        "# Exercício 7\n",
        "\n",
        "**Crie um histograma da variável Voltage. O que pode ser observado sobre sua distribuição?**\n",
        "\n",
        "==="
      ],
      "metadata": {
        "id": "90MGFZWgL-pn"
      }
    },
    {
      "cell_type": "code",
      "source": [
        "df['Voltage'] = df['Voltage'].apply(pd.to_numeric, errors='coerce')\n",
        "df['Voltage'].hist(bins=5, figsize=(8, 6))\n",
        "plt.show()"
      ],
      "metadata": {
        "id": "FvM4PX9-104p"
      },
      "execution_count": null,
      "outputs": []
    },
    {
      "cell_type": "markdown",
      "source": [
        "Pode ser observado que a grande maioria dos dados mostram que a variavel Voltage tende a ficar com valor proximo a 240 e 245, com raros casos em que ela se aproxima de 230 e 250"
      ],
      "metadata": {
        "id": "R5ArN2ZE2iVw"
      }
    },
    {
      "cell_type": "markdown",
      "source": [
        "# Exercício 8\n",
        "\n",
        "**Calcule o consumo médio por mês em todo o período disponível no dataset.**\n",
        "\n",
        "==="
      ],
      "metadata": {
        "id": "KBtAGxZTMBrq"
      }
    },
    {
      "cell_type": "code",
      "source": [
        "monthly_avg_GAP = df.groupby(df['Date'].dt.to_period('M'))['Global_active_power'].mean()\n",
        "monthly_avg_GAP.index = monthly_avg_GAP.index.to_timestamp()\n",
        "print(monthly_avg_GAP)"
      ],
      "metadata": {
        "id": "4UgC34n13bI4"
      },
      "execution_count": null,
      "outputs": []
    },
    {
      "cell_type": "markdown",
      "source": [
        "# Exercício 9\n",
        "\n",
        "**Identifique o dia com maior consumo de energia ativa global (Global_active_power).**\n",
        "\n",
        "==="
      ],
      "metadata": {
        "id": "8tXk_jF3MDPA"
      }
    },
    {
      "cell_type": "code",
      "source": [
        "daily_avg = df.groupby(df['Date'].dt.to_period('D'))['Global_active_power'].mean()"
      ],
      "metadata": {
        "id": "-Mm5defp4KR5"
      },
      "execution_count": null,
      "outputs": []
    },
    {
      "cell_type": "code",
      "source": [
        "df['day'] = df['Date'].dt.date\n",
        "daily_avg = df.groupby('day')['Global_active_power'].mean()"
      ],
      "metadata": {
        "id": "KBH2fsknBB-Z"
      },
      "execution_count": null,
      "outputs": []
    },
    {
      "cell_type": "code",
      "source": [
        "print(df)"
      ],
      "metadata": {
        "id": "SrFMu7kjApfF"
      },
      "execution_count": null,
      "outputs": []
    },
    {
      "cell_type": "code",
      "source": [
        "print(daily_avg)"
      ],
      "metadata": {
        "id": "0aFIsD1VAngS"
      },
      "execution_count": null,
      "outputs": []
    },
    {
      "cell_type": "code",
      "source": [
        "max_day = daily_avg.idxmax()"
      ],
      "metadata": {
        "id": "xqJuttQiAh8p"
      },
      "execution_count": null,
      "outputs": []
    },
    {
      "cell_type": "code",
      "source": [
        "print(max_day)"
      ],
      "metadata": {
        "id": "p8vKBr-IAjin"
      },
      "execution_count": null,
      "outputs": []
    },
    {
      "cell_type": "markdown",
      "source": [
        "# Exercício 10\n",
        "\n",
        "**Compare o consumo médio de energia ativa global em dias de semana versus finais de semana.**\n",
        "\n",
        "==="
      ],
      "metadata": {
        "id": "vVpmVqnKMGem"
      }
    },
    {
      "cell_type": "code",
      "source": [
        "weekends = df[df['Weekday_numbered'].isin([5, 6])]\n",
        "average_weekend_consumption = weekends['Global_active_power'].mean()\n",
        "print(average_weekend_consumption)\n",
        "\n",
        "weekdays = df[df['Weekday_numbered'].isin([0, 1, 2, 3, 4])]\n",
        "average_weekday_consumption = weekdays['Global_active_power'].mean()\n",
        "print(average_weekday_consumption)"
      ],
      "metadata": {
        "id": "hrI47QV16d9L"
      },
      "execution_count": null,
      "outputs": []
    },
    {
      "cell_type": "markdown",
      "source": [
        "A media durante finais de semana é aproximadamente 20% maior que o consumo em dias de semana"
      ],
      "metadata": {
        "id": "qCwJG_4I8Fhq"
      }
    },
    {
      "cell_type": "markdown",
      "source": [
        "# Exercício 11\n",
        "\n",
        "**Calcule a correlação entre as variáveis Global_active_power, Global_reactive_power, Voltage e Global_intensity.**\n",
        "\n",
        "==="
      ],
      "metadata": {
        "id": "8OaVOZi0MIvk"
      }
    },
    {
      "cell_type": "code",
      "source": [
        "correlation_matrix = df[['Global_active_power', 'Global_reactive_power', 'Voltage', 'Global_intensity']].corr()\n",
        "correlation_matrix"
      ],
      "metadata": {
        "id": "qPtH_IU18V0C"
      },
      "execution_count": null,
      "outputs": []
    },
    {
      "cell_type": "markdown",
      "source": [
        "# Exercício 12\n",
        "\n",
        "**Crie uma nova variável chamada Total_Sub_metering que some Sub_metering_1, Sub_metering_2 e Sub_metering_3.**\n",
        "\n",
        "==="
      ],
      "metadata": {
        "id": "Wd4Of3iJMKpU"
      }
    },
    {
      "cell_type": "code",
      "source": [
        "df['Total_Sub_metering'] = df['Sub_metering_1'] + df['Sub_metering_2'] + df['Sub_metering_3']\n",
        "df['Total_Sub_metering']"
      ],
      "metadata": {
        "id": "x1EES5gk87i7"
      },
      "execution_count": null,
      "outputs": []
    },
    {
      "cell_type": "markdown",
      "source": [
        "# Exercício 13\n",
        "**Verifique se há algum mês em que Total_Sub_metering ultrapassa a média de Global_active_power.**\n",
        "\n",
        "==="
      ],
      "metadata": {
        "id": "s2hpRR7CMUEk"
      }
    },
    {
      "cell_type": "code",
      "source": [
        "monthly_avg_GAP = df.groupby(df['Date'].dt.to_period('M'))['Global_active_power'].mean()\n",
        "monthly_avg_GAP.index = monthly_avg_GAP.index.to_timestamp()\n",
        "\n",
        "monthly_avg_TSM = df.groupby(df['Date'].dt.to_period('M'))['Total_Sub_metering'].mean()\n",
        "monthly_avg_TSM.index = monthly_avg_TSM.index.to_timestamp()\n",
        "\n",
        "\n",
        "\n",
        "\n",
        "\n",
        "result = monthly_avg_TSM > monthly_avg_GAP\n",
        "\n",
        "print(result)"
      ],
      "metadata": {
        "id": "RwlNhqnM-BAi"
      },
      "execution_count": null,
      "outputs": []
    },
    {
      "cell_type": "markdown",
      "source": [
        "# Exercício 14\n",
        "\n",
        "**Faça um gráfico de série temporal do Voltage para o ano de 2008.**\n",
        "\n",
        "==="
      ],
      "metadata": {
        "id": "4uAk0qIgMWO5"
      }
    },
    {
      "cell_type": "code",
      "source": [
        "start_date = '2008-01-01'\n",
        "end_date = '2008-12-01'\n",
        "df_2008 = df[(df['Date'] >= start_date) & (df['Date'] <= end_date)]"
      ],
      "metadata": {
        "id": "9Fw9_rY-EmZK"
      },
      "execution_count": null,
      "outputs": []
    },
    {
      "cell_type": "code",
      "source": [
        "df_2008.set_index('Date', inplace=True)"
      ],
      "metadata": {
        "id": "Z7PyigPjEqeF"
      },
      "execution_count": null,
      "outputs": []
    },
    {
      "cell_type": "code",
      "source": [
        "df_2008.plot(y='Voltage', title='Gráfico de Série Temporal', legend=False)\n",
        "plt.xlabel('Date')\n",
        "plt.ylabel('Voltage')\n",
        "plt.grid()\n",
        "plt.show()"
      ],
      "metadata": {
        "id": "bYVm8_tbFCEk"
      },
      "execution_count": null,
      "outputs": []
    },
    {
      "cell_type": "markdown",
      "source": [
        "# Exercício 15\n",
        "\n",
        "**Compare o consumo entre os meses de verão e inverno (no hemisfério norte).**\n",
        "\n",
        "==="
      ],
      "metadata": {
        "id": "nVwRgrVvMZzP"
      }
    },
    {
      "cell_type": "code",
      "source": [
        "def get_season(date):\n",
        "    month = date.month\n",
        "    if month in [12, 1, 2, 3]:  # Winter months\n",
        "        return 'Winter'\n",
        "    elif month in [6, 7, 8, 9]:  # Summer months\n",
        "        return 'Summer'\n",
        "    else:\n",
        "        return 'Other'\n",
        "\n",
        "df['season'] = df['Date'].apply(get_season)"
      ],
      "metadata": {
        "id": "IujZDVEPFo1i"
      },
      "execution_count": null,
      "outputs": []
    },
    {
      "cell_type": "code",
      "source": [
        "seasonal_data = df[df['season'].isin(['Summer', 'Winter'])]\n",
        "\n",
        "comparison = seasonal_data.groupby('season')['Global_active_power'].sum()\n",
        "\n",
        "print(comparison)"
      ],
      "metadata": {
        "id": "BALS3Z0-GdiR"
      },
      "execution_count": null,
      "outputs": []
    },
    {
      "cell_type": "markdown",
      "source": [
        "O consumo no inverno é aproximadamente 80% maior que o consumo no verão"
      ],
      "metadata": {
        "id": "HvD4FuFVIALy"
      }
    },
    {
      "cell_type": "markdown",
      "source": [
        "# Exercício 16\n",
        "\n",
        "**Aplique uma amostragem aleatória de 1% dos dados e verifique se a distribuição de Global_active_power é semelhante à da base completa.**\n",
        "\n",
        "==="
      ],
      "metadata": {
        "id": "iIojFoyeMdcV"
      }
    },
    {
      "cell_type": "code",
      "source": [
        "amostra = df['Global_active_power'].sample(frac=0.01, random_state=10)\n",
        "amostra.mean(), amostra.median(), amostra.std()"
      ],
      "metadata": {
        "id": "Ud22_fVbahRi"
      },
      "execution_count": null,
      "outputs": []
    },
    {
      "cell_type": "code",
      "source": [
        "df['Global_active_power'].mean(), df['Global_active_power'].median(), df['Global_active_power'].std()"
      ],
      "metadata": {
        "id": "a0DUHp6Bbucn"
      },
      "execution_count": null,
      "outputs": []
    },
    {
      "cell_type": "markdown",
      "source": [
        "O desvio padrao, media e mediana da amostra são muito proximos a base completa, mostrando que é muito semelhante."
      ],
      "metadata": {
        "id": "4IwfgKKacALB"
      }
    },
    {
      "cell_type": "markdown",
      "source": [
        "# Exercício 17\n",
        "\n",
        "**Utilize uma técnica de normalização (Min-Max Scaling) para padronizar as variáveis numéricas principais.**\n",
        "\n",
        "==="
      ],
      "metadata": {
        "id": "k-vKmLI0MgUm"
      }
    },
    {
      "cell_type": "code",
      "source": [
        "from sklearn.preprocessing import MinMaxScaler"
      ],
      "metadata": {
        "id": "ec84i-Kncd7G"
      },
      "execution_count": null,
      "outputs": []
    },
    {
      "cell_type": "code",
      "source": [
        "df_temp = df\n",
        "df = df.drop(columns=['Date', 'Time', 'Weekday', 'day', 'season'])\n",
        "\n",
        "\n",
        "scaler = MinMaxScaler()\n",
        "\n",
        "\n",
        "df_normalizado = pd.DataFrame(scaler.fit_transform(df), columns=df.columns)\n",
        "\n",
        "df['Date'] = df_temp['Date']\n",
        "df['Time'] = df_temp['Time']\n",
        "df['Weekday'] = df_temp['Weekday']\n",
        "df['day'] = df_temp['day']\n",
        "df['season'] = df_temp['season']\n",
        "\n",
        "df_normalizado['Date'] = df_temp['Date']\n",
        "df_normalizado['Time'] = df_temp['Time']\n",
        "df_normalizado['Weekday'] = df_temp['Weekday']\n",
        "df_normalizado['day'] = df_temp['day']\n",
        "df_normalizado['season'] = df_temp['season']\n",
        "\n",
        "print(\"DataFrame Normalizado:\")\n",
        "print(df_normalizado)"
      ],
      "metadata": {
        "id": "JmUySkHIcY3_"
      },
      "execution_count": null,
      "outputs": []
    },
    {
      "cell_type": "markdown",
      "source": [
        "# Exercício 18\n",
        "\n",
        "**Aplique K-means para segmentar os dias em 3 grupos distintos de consumo elétrico. Interprete os resultados.**\n",
        "\n",
        "==="
      ],
      "metadata": {
        "id": "y9YczAiRLpsc"
      }
    },
    {
      "cell_type": "code",
      "source": [
        "scaled_df = df.dropna()"
      ],
      "metadata": {
        "id": "02-XbBRmfdH5"
      },
      "execution_count": null,
      "outputs": []
    },
    {
      "cell_type": "code",
      "source": [
        "from sklearn.cluster import KMeans\n",
        "from sklearn.preprocessing import StandardScaler"
      ],
      "metadata": {
        "id": "gNzhMVaOdaHM"
      },
      "execution_count": null,
      "outputs": []
    },
    {
      "cell_type": "code",
      "source": [
        "scaler = StandardScaler()\n",
        "scaled_df['Global_active_power_Normalizado'] = scaler.fit_transform(scaled_df[['Global_active_power']])\n",
        "\n",
        "kmeans = KMeans(n_clusters=3, random_state=42)\n",
        "scaled_df['Cluster'] = kmeans.fit_predict(scaled_df[['Global_active_power_Normalizado']])\n",
        "\n",
        "plt.scatter(scaled_df['Weekday'], scaled_df['Global_active_power'], c=scaled_df['Cluster'], cmap='viridis')\n",
        "plt.title('Segmentação de Consumo Elétrico por Dia')\n",
        "plt.xlabel('Weekday')\n",
        "plt.ylabel('Global_active_power')\n",
        "plt.xticks(rotation=45)\n",
        "plt.colorbar(label='Cluster')\n",
        "plt.show()"
      ],
      "metadata": {
        "id": "GG3Zx9Y0da8Z"
      },
      "execution_count": null,
      "outputs": []
    },
    {
      "cell_type": "markdown",
      "source": [
        "Os segmentos demonstram que o uso de energia é em maioria concentrado em valores mais proximos do maximo, com algumas excessoes sendo proximos de 0."
      ],
      "metadata": {
        "id": "HkTwM6zygZN9"
      }
    },
    {
      "cell_type": "markdown",
      "source": [
        "\n",
        "# Exercício 19\n",
        "\n",
        "**Realize uma decomposição de série temporal (tendência, sazonalidade e resíduo) para Global_active_power em um período de 6 meses.**\n",
        "\n",
        "==="
      ],
      "metadata": {
        "id": "lQp6DSVwLsV6"
      }
    },
    {
      "cell_type": "code",
      "source": [
        "from statsmodels.tsa.seasonal import seasonal_decompose"
      ],
      "metadata": {
        "id": "9RjwUDADihxG"
      },
      "execution_count": null,
      "outputs": []
    },
    {
      "cell_type": "code",
      "source": [
        "df_6_months = df['Global_active_power'].loc['2009-12-26':'2010-6-26']"
      ],
      "metadata": {
        "id": "ejbWuliqiX62"
      },
      "execution_count": null,
      "outputs": []
    },
    {
      "cell_type": "code",
      "source": [
        "decomposition = seasonal_decompose(df_6_months, model='additive', period=30)\n",
        "\n",
        "decomposition.plot()\n",
        "plt.show()\n",
        "\n",
        "# Acessar os componentes individualmente\n",
        "trend = decomposition.trend\n",
        "seasonal = decomposition.seasonal\n",
        "residual = decomposition.resid"
      ],
      "metadata": {
        "id": "lnPjDqMukRWr"
      },
      "execution_count": null,
      "outputs": []
    },
    {
      "cell_type": "markdown",
      "source": [
        "# Exercício 20\n",
        "\n",
        "**Treine um modelo de regressão linear simples para prever Global_active_power a partir de Global_intensity. Avalie o erro do modelo**\n",
        "\n",
        "==="
      ],
      "metadata": {
        "id": "yy7KXQw9MmQT"
      }
    },
    {
      "cell_type": "code",
      "source": [
        "from sklearn.model_selection import train_test_split\n",
        "from sklearn.linear_model import LinearRegression\n",
        "from sklearn.metrics import mean_absolute_error, mean_squared_error"
      ],
      "metadata": {
        "id": "U-R11BI3mHwd"
      },
      "execution_count": null,
      "outputs": []
    },
    {
      "cell_type": "code",
      "source": [
        "X = df[['Global_intensity']]\n",
        "y = df['Global_active_power']\n",
        "\n",
        "X_train, X_test, y_train, y_test = train_test_split(X, y, test_size=0.2, random_state=42)\n",
        "\n",
        "model = LinearRegression()\n",
        "model.fit(X_train, y_train)\n",
        "\n",
        "y_pred = model.predict(X_test)\n",
        "\n",
        "mae = mean_absolute_error(y_test, y_pred)\n",
        "mse = mean_squared_error(y_test, y_pred)\n",
        "\n",
        "print(\"Coeficiente (Slope):\", model.coef_[0])\n",
        "print(\"Intercepto:\", model.intercept_)\n",
        "print(\"Mean Absolute Error (MAE):\", mae)\n",
        "print(\"Mean Squared Error (MSE):\", mse)"
      ],
      "metadata": {
        "id": "VllhL50-l7vs"
      },
      "execution_count": null,
      "outputs": []
    },
    {
      "cell_type": "markdown",
      "source": [
        "# Exercício 21\n",
        "**Séries temporais por hora**\n",
        "- **Converta Date e Time em índice datetime.**\n",
        "- **Reamostre os dados em intervalos de 1 hora, calculando a média de Global_active_power.**\n",
        "- **Identifique os horários de maior consumo médio ao longo do dia.**\n",
        "**Observação: uma série temporal é um conjunto de dados registrados em ordem cronológica, útil para identificar padrões de comportamento ao longo do tempo.**\n",
        "\n",
        "==="
      ],
      "metadata": {
        "id": "SPbjQDWlsI2a"
      }
    },
    {
      "cell_type": "code",
      "source": [
        "df = pd.read_csv('household_power_consumption.txt', sep=';')"
      ],
      "metadata": {
        "id": "AFhri1T4mii4",
        "colab": {
          "base_uri": "https://localhost:8080/"
        },
        "outputId": "282b1dc4-cbdb-433e-809b-f60a100f0aea"
      },
      "execution_count": 46,
      "outputs": [
        {
          "output_type": "stream",
          "name": "stderr",
          "text": [
            "/tmp/ipython-input-4116954226.py:1: DtypeWarning: Columns (2,3,4,5,6,7) have mixed types. Specify dtype option on import or set low_memory=False.\n",
            "  df = pd.read_csv('household_power_consumption.txt', sep=';')\n"
          ]
        }
      ]
    },
    {
      "cell_type": "code",
      "source": [
        "df['Date'] = pd.to_datetime(df['Date'])"
      ],
      "metadata": {
        "id": "_psdKFgumxlY",
        "colab": {
          "base_uri": "https://localhost:8080/"
        },
        "outputId": "33d30330-b07e-457f-e469-5b0b281cfd65"
      },
      "execution_count": 3,
      "outputs": [
        {
          "output_type": "stream",
          "name": "stderr",
          "text": [
            "/tmp/ipython-input-2394721818.py:1: UserWarning: Parsing dates in %d/%m/%Y format when dayfirst=False (the default) was specified. Pass `dayfirst=True` or specify a format to silence this warning.\n",
            "  df['Date'] = pd.to_datetime(df['Date'])\n"
          ]
        }
      ]
    },
    {
      "cell_type": "code",
      "source": [
        "print(df)"
      ],
      "metadata": {
        "id": "cWnRjPvfnkE-",
        "colab": {
          "base_uri": "https://localhost:8080/"
        },
        "outputId": "da6c599d-0b63-4270-e014-d6de4f0aa7b0"
      },
      "execution_count": 4,
      "outputs": [
        {
          "output_type": "stream",
          "name": "stdout",
          "text": [
            "              Date      Time Global_active_power Global_reactive_power  \\\n",
            "0       2006-12-16  17:24:00               4.216                 0.418   \n",
            "1       2006-12-16  17:25:00               5.360                 0.436   \n",
            "2       2006-12-16  17:26:00               5.374                 0.498   \n",
            "3       2006-12-16  17:27:00               5.388                 0.502   \n",
            "4       2006-12-16  17:28:00               3.666                 0.528   \n",
            "...            ...       ...                 ...                   ...   \n",
            "2075254 2010-11-26  20:58:00               0.946                   0.0   \n",
            "2075255 2010-11-26  20:59:00               0.944                   0.0   \n",
            "2075256 2010-11-26  21:00:00               0.938                   0.0   \n",
            "2075257 2010-11-26  21:01:00               0.934                   0.0   \n",
            "2075258 2010-11-26  21:02:00               0.932                   0.0   \n",
            "\n",
            "         Voltage Global_intensity Sub_metering_1 Sub_metering_2  \\\n",
            "0        234.840           18.400          0.000          1.000   \n",
            "1        233.630           23.000          0.000          1.000   \n",
            "2        233.290           23.000          0.000          2.000   \n",
            "3        233.740           23.000          0.000          1.000   \n",
            "4        235.680           15.800          0.000          1.000   \n",
            "...          ...              ...            ...            ...   \n",
            "2075254   240.43              4.0            0.0            0.0   \n",
            "2075255    240.0              4.0            0.0            0.0   \n",
            "2075256   239.82              3.8            0.0            0.0   \n",
            "2075257    239.7              3.8            0.0            0.0   \n",
            "2075258   239.55              3.8            0.0            0.0   \n",
            "\n",
            "         Sub_metering_3  \n",
            "0                  17.0  \n",
            "1                  16.0  \n",
            "2                  17.0  \n",
            "3                  17.0  \n",
            "4                  17.0  \n",
            "...                 ...  \n",
            "2075254             0.0  \n",
            "2075255             0.0  \n",
            "2075256             0.0  \n",
            "2075257             0.0  \n",
            "2075258             0.0  \n",
            "\n",
            "[2075259 rows x 9 columns]\n"
          ]
        }
      ]
    },
    {
      "cell_type": "code",
      "source": [
        "df.info()"
      ],
      "metadata": {
        "colab": {
          "base_uri": "https://localhost:8080/"
        },
        "id": "aD2fhB1hsUli",
        "outputId": "9ba8ca39-d1a5-4055-f6c7-538657fbf356"
      },
      "execution_count": 26,
      "outputs": [
        {
          "output_type": "stream",
          "name": "stdout",
          "text": [
            "<class 'pandas.core.frame.DataFrame'>\n",
            "DatetimeIndex: 2075259 entries, 2025-09-04 17:24:00 to 2025-09-04 21:02:00\n",
            "Data columns (total 9 columns):\n",
            " #   Column                 Dtype         \n",
            "---  ------                 -----         \n",
            " 0   Date                   datetime64[ns]\n",
            " 1   Global_active_power    float64       \n",
            " 2   Global_reactive_power  float64       \n",
            " 3   Voltage                float64       \n",
            " 4   Global_intensity       float64       \n",
            " 5   Sub_metering_1         float64       \n",
            " 6   Sub_metering_2         float64       \n",
            " 7   Sub_metering_3         float64       \n",
            " 8   hour                   int32         \n",
            "dtypes: datetime64[ns](1), float64(7), int32(1)\n",
            "memory usage: 150.4 MB\n"
          ]
        }
      ]
    },
    {
      "cell_type": "code",
      "source": [
        "df_temp = df\n",
        "df = df.apply(pd.to_numeric, errors='coerce')\n",
        "df['Date'] = df_temp['Date']\n",
        "df['Time'] = df_temp['Time']\n",
        "\n",
        "df['hour'] = df['Date'].dt.hour"
      ],
      "metadata": {
        "id": "vaJ3WZKpp3eu"
      },
      "execution_count": 7,
      "outputs": []
    },
    {
      "cell_type": "code",
      "source": [
        "mean_per_hour = df.groupby('hour')['Global_active_power'].mean()\n",
        "\n",
        "print(mean_per_hour)"
      ],
      "metadata": {
        "id": "28U0XIvDrvR3",
        "colab": {
          "base_uri": "https://localhost:8080/"
        },
        "outputId": "8b12fff3-a640-4d21-c28c-c76ba4bb250b"
      },
      "execution_count": 16,
      "outputs": [
        {
          "output_type": "stream",
          "name": "stdout",
          "text": [
            "hour\n",
            "0    1.091615\n",
            "Name: Global_active_power, dtype: float64\n"
          ]
        }
      ]
    },
    {
      "cell_type": "markdown",
      "source": [
        "# Exercício 22\n",
        "**Autocorrelação do consumo**\n",
        "\n",
        "- **Use a série temporal de Global_active_power.**\n",
        "- **Calcule a autocorrelação em lags de 1h, 24h e 48h.**\n",
        "- **Pergunta: existem padrões repetidos diariamente?**\n",
        "\n",
        "==="
      ],
      "metadata": {
        "id": "EzooQI-fsqLs"
      }
    },
    {
      "cell_type": "code",
      "source": [
        "start_date = '2008-01-01'\n",
        "end_date = '2008-12-01'\n",
        "df_2008 = df[(df['Date'] >= start_date) & (df['Date'] <= end_date)]\n",
        "\n",
        "df_2008.set_index('Date', inplace=True)\n",
        "\n",
        "df_2008.plot(y='Voltage', title='Gráfico de Série Temporal', legend=False)\n",
        "plt.xlabel('Date')\n",
        "plt.ylabel('Voltage')\n",
        "plt.grid()\n",
        "plt.show()"
      ],
      "metadata": {
        "id": "JKFClMWatXTB"
      },
      "execution_count": null,
      "outputs": []
    },
    {
      "cell_type": "code",
      "source": [
        "df['Time'] = pd.to_datetime(df['Time'])\n",
        "df.set_index('Time', inplace=True)\n",
        "\n",
        "series = df['Global_active_power']\n",
        "\n",
        "\n",
        "autocorr_1h = series.autocorr(lag=1)\n",
        "autocorr_24h = series.autocorr(lag=24)\n",
        "autocorr_48h = series.autocorr(lag=48)\n",
        "\n",
        "\n",
        "print(f\"Autocorrelação com lag de 1 hora: {autocorr_1h:.4f}\")\n",
        "print(f\"Autocorrelação com lag de 24 horas: {autocorr_24h:.4f}\")\n",
        "print(f\"Autocorrelação com lag de 48 horas: {autocorr_48h:.4f}\")"
      ],
      "metadata": {
        "colab": {
          "base_uri": "https://localhost:8080/"
        },
        "id": "Uw6ZMIyUtpcf",
        "outputId": "551d088e-93c6-49cd-b9f3-a38fa3625abb"
      },
      "execution_count": 18,
      "outputs": [
        {
          "output_type": "stream",
          "name": "stderr",
          "text": [
            "/tmp/ipython-input-1902784627.py:1: UserWarning: Could not infer format, so each element will be parsed individually, falling back to `dateutil`. To ensure parsing is consistent and as-expected, please specify a format.\n",
            "  df['Time'] = pd.to_datetime(df['Time'])\n"
          ]
        },
        {
          "output_type": "stream",
          "name": "stdout",
          "text": [
            "Autocorrelação com lag de 1 hora: 0.9680\n",
            "Autocorrelação com lag de 24 horas: 0.6650\n",
            "Autocorrelação com lag de 48 horas: 0.5395\n"
          ]
        }
      ]
    },
    {
      "cell_type": "markdown",
      "source": [
        "# Exercício 23\n",
        "**Redução de dimensionalidade com PCA**\n",
        "\n",
        "- **Selecione Global_active_power, Global_reactive_power, Voltage e Global_intensity.**\n",
        "- **Aplique PCA para reduzir para 2 componentes principais.**\n",
        "- **Analise a variância explicada por cada componente.**\n",
        "\n",
        "==="
      ],
      "metadata": {
        "id": "cPzFq_31syCY"
      }
    },
    {
      "cell_type": "code",
      "source": [
        "df = df.apply(pd.to_numeric, errors='coerce')"
      ],
      "metadata": {
        "colab": {
          "base_uri": "https://localhost:8080/"
        },
        "id": "42OibBV51c9z",
        "outputId": "4fdcebc9-b549-4871-b191-d109412f52ce"
      },
      "execution_count": 50,
      "outputs": [
        {
          "output_type": "stream",
          "name": "stdout",
          "text": [
            "0          234.84\n",
            "1          233.63\n",
            "2          233.29\n",
            "3          233.74\n",
            "4          235.68\n",
            "            ...  \n",
            "2075254    240.43\n",
            "2075255    240.00\n",
            "2075256    239.82\n",
            "2075257    239.70\n",
            "2075258    239.55\n",
            "Name: Voltage, Length: 2075259, dtype: float64\n"
          ]
        }
      ]
    },
    {
      "cell_type": "code",
      "source": [
        "df_cleaned = df.apply(pd.to_numeric, errors='coerce')\n",
        "df_cleaned = df_cleaned.dropna(axis=1, how='all')\n",
        "df_cleaned = df_cleaned.dropna()\n",
        "print(df_cleaned)"
      ],
      "metadata": {
        "colab": {
          "base_uri": "https://localhost:8080/"
        },
        "id": "eLVG4Trl3A59",
        "outputId": "e5640bcd-9118-4578-f36f-7637f601fe02"
      },
      "execution_count": 63,
      "outputs": [
        {
          "output_type": "stream",
          "name": "stdout",
          "text": [
            "         Global_active_power  Global_reactive_power  Voltage  \\\n",
            "0                      4.216                  0.418   234.84   \n",
            "1                      5.360                  0.436   233.63   \n",
            "2                      5.374                  0.498   233.29   \n",
            "3                      5.388                  0.502   233.74   \n",
            "4                      3.666                  0.528   235.68   \n",
            "...                      ...                    ...      ...   \n",
            "2075254                0.946                  0.000   240.43   \n",
            "2075255                0.944                  0.000   240.00   \n",
            "2075256                0.938                  0.000   239.82   \n",
            "2075257                0.934                  0.000   239.70   \n",
            "2075258                0.932                  0.000   239.55   \n",
            "\n",
            "         Global_intensity  Sub_metering_1  Sub_metering_2  Sub_metering_3  \n",
            "0                    18.4             0.0             1.0            17.0  \n",
            "1                    23.0             0.0             1.0            16.0  \n",
            "2                    23.0             0.0             2.0            17.0  \n",
            "3                    23.0             0.0             1.0            17.0  \n",
            "4                    15.8             0.0             1.0            17.0  \n",
            "...                   ...             ...             ...             ...  \n",
            "2075254               4.0             0.0             0.0             0.0  \n",
            "2075255               4.0             0.0             0.0             0.0  \n",
            "2075256               3.8             0.0             0.0             0.0  \n",
            "2075257               3.8             0.0             0.0             0.0  \n",
            "2075258               3.8             0.0             0.0             0.0  \n",
            "\n",
            "[2049280 rows x 7 columns]\n"
          ]
        }
      ]
    },
    {
      "cell_type": "code",
      "source": [
        "import pandas as pd\n",
        "from sklearn.decomposition import PCA\n",
        "from sklearn.preprocessing import StandardScaler\n",
        "\n",
        "scaled_df = df.dropna()\n",
        "\n",
        "# Step 1: Standardize the data\n",
        "scaler = StandardScaler()\n",
        "scaled_data = scaler.fit_transform(df_cleaned)\n",
        "\n",
        "# Step 2: Apply PCA\n",
        "pca = PCA(n_components=2)  # Reduce to 2 principal components\n",
        "principal_components = pca.fit_transform(scaled_data)\n",
        "\n",
        "# Step 3: Create a DataFrame for the principal components\n",
        "pca_df = pd.DataFrame(data=principal_components, columns=['PC1', 'PC2'])\n",
        "\n",
        "# Display the result\n",
        "print(\"Original DataFrame:\")\n",
        "print(df)\n",
        "print(\"\\nPrincipal Components DataFrame:\")\n",
        "print(pca_df)"
      ],
      "metadata": {
        "colab": {
          "base_uri": "https://localhost:8080/"
        },
        "id": "23WUrf130Ry5",
        "outputId": "d35b69f2-b5ea-46f8-ffab-d48a199f7fbe"
      },
      "execution_count": 65,
      "outputs": [
        {
          "output_type": "stream",
          "name": "stdout",
          "text": [
            "Original DataFrame:\n",
            "         Date  Time  Global_active_power  Global_reactive_power  Voltage  \\\n",
            "0         NaN   NaN                4.216                  0.418   234.84   \n",
            "1         NaN   NaN                5.360                  0.436   233.63   \n",
            "2         NaN   NaN                5.374                  0.498   233.29   \n",
            "3         NaN   NaN                5.388                  0.502   233.74   \n",
            "4         NaN   NaN                3.666                  0.528   235.68   \n",
            "...       ...   ...                  ...                    ...      ...   \n",
            "2075254   NaN   NaN                0.946                  0.000   240.43   \n",
            "2075255   NaN   NaN                0.944                  0.000   240.00   \n",
            "2075256   NaN   NaN                0.938                  0.000   239.82   \n",
            "2075257   NaN   NaN                0.934                  0.000   239.70   \n",
            "2075258   NaN   NaN                0.932                  0.000   239.55   \n",
            "\n",
            "         Global_intensity  Sub_metering_1  Sub_metering_2  Sub_metering_3  \n",
            "0                    18.4             0.0             1.0            17.0  \n",
            "1                    23.0             0.0             1.0            16.0  \n",
            "2                    23.0             0.0             2.0            17.0  \n",
            "3                    23.0             0.0             1.0            17.0  \n",
            "4                    15.8             0.0             1.0            17.0  \n",
            "...                   ...             ...             ...             ...  \n",
            "2075254               4.0             0.0             0.0             0.0  \n",
            "2075255               4.0             0.0             0.0             0.0  \n",
            "2075256               3.8             0.0             0.0             0.0  \n",
            "2075257               3.8             0.0             0.0             0.0  \n",
            "2075258               3.8             0.0             0.0             0.0  \n",
            "\n",
            "[2075259 rows x 9 columns]\n",
            "\n",
            "Principal Components DataFrame:\n",
            "              PC1       PC2\n",
            "0        4.696367  0.684513\n",
            "1        5.933636  0.701680\n",
            "2        6.164382  1.101865\n",
            "3        6.091306  1.046288\n",
            "4        4.206162  1.420740\n",
            "...           ...       ...\n",
            "2049275 -0.715933 -0.519915\n",
            "2049276 -0.677652 -0.538716\n",
            "2049277 -0.688547 -0.544911\n",
            "2049278 -0.679615 -0.549992\n",
            "2049279 -0.666924 -0.556487\n",
            "\n",
            "[2049280 rows x 2 columns]\n"
          ]
        }
      ]
    }
  ]
}